{
 "cells": [
  {
   "cell_type": "markdown",
   "metadata": {},
   "source": [
    "# Kicked Top"
   ]
  },
  {
   "cell_type": "markdown",
   "metadata": {},
   "source": [
    "## Julius Eberhard, WS 2016/2017, Simulation & Modellierung, Uni Potsdam"
   ]
  },
  {
   "cell_type": "code",
   "execution_count": 64,
   "metadata": {
    "collapsed": false
   },
   "outputs": [
    {
     "data": {
      "text/plain": [
       "(-1, 1)"
      ]
     },
     "execution_count": 64,
     "metadata": {},
     "output_type": "execute_result"
    },
    {
     "data": {
      "image/png": "[encoded data removed]",
      "text/plain": [
       "<matplotlib.figure.Figure at 0x7f3f1d7c22e8>"
      ]
     },
     "metadata": {},
     "output_type": "display_data"
    }
   ],
   "source": [
    "import numpy as np\n",
    "import matplotlib.pyplot as plt\n",
    "\n",
    "%matplotlib inline\n",
    "\n",
    "N = 10000\n",
    "jx = np.empty([N])\n",
    "jy = np.empty([N])\n",
    "jz = np.empty([N])\n",
    "\n",
    "# \n",
    "alpha = 1.7\n",
    "tau = 1\n",
    "\n",
    "# initial condition\n",
    "jx[0] = 0.28\n",
    "jy[0] = 0.96\n",
    "jz[0] = np.sqrt(1-jx[0]**2-jy[0]**2)\n",
    "\n",
    "# loop\n",
    "for i in range(1, N):\n",
    "    A = jy[i-1]*np.cos(alpha)\n",
    "    B = jz[i-1]*np.sin(alpha)\n",
    "    C = jy[i-1]*np.sin(alpha)\n",
    "    D = jz[i-1]*np.cos(alpha)\n",
    "    Y = A-B\n",
    "    Z = C+D\n",
    "    jx[i] = jx[i-1]*np.cos(tau*Z) - Y*np.sin(tau*Z)\n",
    "    jy[i] = jx[i-1]*np.sin(tau*Z) + Y*np.cos(tau*Z)\n",
    "    jz[i] = Z\n",
    "\n",
    "ix = [0]\n",
    "for i in range(1, N):\n",
    "    if jy[i] >= 0:\n",
    "        ix.append(i)\n",
    "    else:\n",
    "        continue\n",
    "#print(ix)\n",
    "'''\n",
    "plt.plot(jx, jz, '.', ms=0.5)\n",
    "plt.axis('square')\n",
    "plt.xlim([-1, 1])\n",
    "plt.ylim([-1, 1])\n",
    "'''\n",
    "plt.plot(jx[ix], jz[ix], '.', ms=0.5)\n",
    "plt.axis('square')\n",
    "plt.xlim([-1, 1])\n",
    "plt.ylim([-1, 1])\n"
   ]
  },
  {
   "cell_type": "code",
   "execution_count": null,
   "metadata": {
    "collapsed": true
   },
   "outputs": [],
   "source": []
  }
 ],
 "metadata": {
  "anaconda-cloud": {},
  "kernelspec": {
   "display_name": "Python [default]",
   "language": "python",
   "name": "python3"
  },
  "language_info": {
   "codemirror_mode": {
    "name": "ipython",
    "version": 3
   },
   "file_extension": ".py",
   "mimetype": "text/x-python",
   "name": "python",
   "nbconvert_exporter": "python",
   "pygments_lexer": "ipython3",
   "version": "3.5.2"
  }
 },
 "nbformat": 4,
 "nbformat_minor": 1
}
