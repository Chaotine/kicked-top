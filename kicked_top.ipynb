{
 "cells": [
  {
   "cell_type": "markdown",
   "metadata": {},
   "source": [
    "# Kicked Top"
   ]
  },
  {
   "cell_type": "markdown",
   "metadata": {},
   "source": [
    "## Julius Eberhard, WS 2016/2017, Simulation & Modellierung, Uni Potsdam"
   ]
  },
  {
   "cell_type": "code",
   "execution_count": 78,
   "metadata": {
    "collapsed": false
   },
   "outputs": [
    {
     "name": "stdout",
     "output_type": "stream",
     "text": [
      "[0.98999999999999999, 0.089999999999999997, 0.10862780491200229]\n",
      "1.0\n",
      "1.0\n"
     ]
    },
    {
     "data": {
      "text/plain": [
       "(-1, 1)"
      ]
     },
     "execution_count": 78,
     "metadata": {},
     "output_type": "execute_result"
    },
    {
     "data": {
      "image/png": "[encoded data removed]",
      "text/plain": [
       "<matplotlib.figure.Figure at 0x7f94dbf4a630>"
      ]
     },
     "metadata": {},
     "output_type": "display_data"
    }
   ],
   "source": [
    "import numpy as np\n",
    "import matplotlib.pyplot as plt\n",
    "\n",
    "%matplotlib inline\n",
    "\n",
    "N = 5000\n",
    "jx = np.empty([N])\n",
    "jy = np.empty([N])\n",
    "jz = np.empty([N])\n",
    "\n",
    "# \n",
    "alpha = 0.3\n",
    "tau = 0.1\n",
    "\n",
    "# initial condition\n",
    "jx[0] = 0.99\n",
    "jy[0] = 0.09\n",
    "jz[0] = np.sqrt(1-jx[0]**2-jy[0]**2)\n",
    "#print(np.sqrt(jx[0]**2+jy[0]**2+jz[0]**2))\n",
    "\n",
    "# loop\n",
    "for i in range(1, N):\n",
    "    A = jy[i-1]*np.cos(alpha)\n",
    "    B = jz[i-1]*np.sin(alpha)\n",
    "    T = tau*(A+B)\n",
    "    jx[i] = jx[i-1]*np.cos(T) - (A-B)*np.sin(T)\n",
    "    jy[i] = jx[i-1]*np.sin(T) + (A-B)*np.cos(T)\n",
    "    jz[i] = jy[i-1]*np.sin(alpha) + jz[i-1]*np.cos(alpha)\n",
    "\n",
    "print([jx[0], jy[0], jz[0]])\n",
    "print(jx[0]**2 + jy[0]**2 + jz[0]**2)\n",
    "print(jx[N-1]**2 + jy[N-1]**2 + jz[N-1]**2)\n",
    "#ix = [0]\n",
    "#for i in range(1, N):\n",
    "#    if jy[i] <= 1:\n",
    "#        ix.append(i)\n",
    "#    else:\n",
    "#        continue\n",
    "\n",
    "plt.plot(jx, jz, '-')\n",
    "plt.axis('square')\n",
    "plt.xlim([-1, 1])\n",
    "plt.ylim([-1, 1])\n",
    "\n",
    "#plt.plot(jx[ix], jz[ix], '-')\n",
    "#ix = 8000\n",
    "#plt.plot(jx[ix], jz[ix], 'r.')\n",
    "#plt.xlim([0.4, 1.4])\n",
    "#plt.ylim([-0.1, 0.1])"
   ]
  },
  {
   "cell_type": "code",
   "execution_count": null,
   "metadata": {
    "collapsed": true
   },
   "outputs": [],
   "source": []
  },
  {
   "cell_type": "markdown",
   "metadata": {},
   "source": [
    "$ x^2 + y^2 = 1 \\rightarrow y = \\sqrt{1 - x^2} $"
   ]
  }
 ],
 "metadata": {
  "anaconda-cloud": {},
  "kernelspec": {
   "display_name": "Python [default]",
   "language": "python",
   "name": "python3"
  },
  "language_info": {
   "codemirror_mode": {
    "name": "ipython",
    "version": 3
   },
   "file_extension": ".py",
   "mimetype": "text/x-python",
   "name": "python",
   "nbconvert_exporter": "python",
   "pygments_lexer": "ipython3",
   "version": "3.5.2"
  }
 },
 "nbformat": 4,
 "nbformat_minor": 1
}
